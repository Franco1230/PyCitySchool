{
 "cells": [
  {
   "cell_type": "markdown",
   "metadata": {},
   "source": [
    "### Note\n",
    "* Instructions have been included for each segment. You do not have to follow them exactly, but they are included to help you think through the steps."
   ]
  },
  {
   "cell_type": "code",
   "execution_count": null,
   "metadata": {},
   "outputs": [],
   "source": [
    "# Dependencies and Setup\n",
    "import pandas as pd\n",
    "\n",
    "# File to Load (Remember to Change These)\n",
    "school_data_to_load = \"Resources/schools_complete.csv\"\n",
    "student_data_to_load = \"Resources/students_complete.csv\"\n",
    "\n",
    "# Read School and Student Data File and store into Pandas DataFrames\n",
    "school_data = pd.read_csv(school_data_to_load)\n",
    "student_data = pd.read_csv(student_data_to_load)\n",
    "\n",
    "# Combine the data into a single dataset.  \n",
    "school_data_complete = pd.merge(student_data, school_data, how=\"left\", on=[\"school_name\", \"school_name\"])\n",
    "school_data_complete.head()"
   ]
  },
  {
   "cell_type": "code",
   "execution_count": null,
   "metadata": {},
   "outputs": [],
   "source": [
    "# Set data type to avoid calculation error\n",
    "school_data_complete[\"Student ID\"].astype(\"int\")\n",
    "school_data_complete[\"student_name\"].astype(\"object\")\n",
    "school_data_complete[\"gender\"].astype(\"object\")\n",
    "school_data_complete[\"grade\"].astype(\"object\")\n",
    "school_data_complete[\"school_name\"].astype(\"object\")\n",
    "school_data_complete[\"reading_score\"].astype(\"int\")\n",
    "school_data_complete[\"math_score\"].astype(\"int\")\n",
    "school_data_complete[\"School ID\"].astype(\"int\")\n",
    "school_data_complete[\"type\"].astype(\"object\")\n",
    "school_data_complete[\"size\"].astype(\"float\")\n",
    "school_data_complete[\"budget\"].astype(\"float\")"
   ]
  },
  {
   "cell_type": "markdown",
   "metadata": {},
   "source": [
    "## District Summary\n",
    "\n",
    "* Calculate the total number of schools\n",
    "\n",
    "* Calculate the total number of students\n",
    "\n",
    "* Calculate the total budget\n",
    "\n",
    "* Calculate the average math score \n",
    "\n",
    "* Calculate the average reading score\n",
    "\n",
    "* Calculate the percentage of students with a passing math score (70 or greater)\n",
    "\n",
    "* Calculate the percentage of students with a passing reading score (70 or greater)\n",
    "\n",
    "* Calculate the percentage of students who passed math **and** reading (% Overall Passing)\n",
    "\n",
    "* Create a dataframe to hold the above results\n",
    "\n",
    "* Optional: give the displayed data cleaner formatting"
   ]
  },
  {
   "cell_type": "code",
   "execution_count": null,
   "metadata": {},
   "outputs": [],
   "source": [
    "# Use length to count list of \"school_name\" for each school\n",
    "total_schools = len(school_data_complete[\"school_name\"].unique())\n",
    "\n",
    "# Use length to count list of \"Student ID\" for each student because there's chance that students have same first and last name\n",
    "total_students = len(school_data_complete[\"Student ID\"].unique())\n",
    "\n",
    "# Calculate the total budget\n",
    "total_budget = (school_data_complete[\"budget\"]).unique()\n",
    "total_budget = total_budget.sum()\n",
    "\n",
    "# Calculate the average math score\n",
    "avg_math_score = (school_data_complete[\"math_score\"]).mean()\n",
    "\n",
    "# Calculate the average reading score\n",
    "avg_reading_score = (school_data_complete[\"reading_score\"]).mean()\n",
    "\n",
    "# Calculate the percentage of students with a passing math score (70 or greater)\n",
    "math_pass_rate = (school_data_complete[\"math_score\"] >= 70).sum() / (school_data_complete[\"math_score\"].count()) * 100\n",
    "\n",
    "# Calculate the percentage of students with a passing reading score (70 or greater)\n",
    "reading_pass_rate = (school_data_complete[\"reading_score\"] >= 70).sum() / (school_data_complete[\"reading_score\"].count()) * 100\n",
    "\n",
    "# Calculate the percentage of students who passed math and reading (% Overall Passing)\n",
    "overall_pass_rate = (school_data_complete[(school_data_complete[\"math_score\"] >= 70) &\n",
    "                                          (school_data_complete[\"reading_score\"] >= 70)][\"student_name\"].count() / total_students) * 100\n",
    "\n",
    "# Create a data frame for the analysis\n",
    "district_summary = pd.DataFrame({\"Total Schools\": [total_schools],\n",
    "                                 \"Total Students\": [total_students],\n",
    "                                 \"Total Budget\": [total_budget],\n",
    "                                 \"Average Math Score\": [avg_math_score],\n",
    "                                 \"Average Reading Score\" : [avg_reading_score],\n",
    "                                 \"Math Passing Rate\": [math_pass_rate],\n",
    "                                 \"Reading Passing Rate\": [reading_pass_rate],\n",
    "                                 \"Overall Passing Rate\": [overall_pass_rate]})\n",
    "\n",
    "# Format data frame, adding \"$\", \"%\", comma and set decimal places\n",
    "district_summary[\"Total Students\"] = district_summary[\"Total Students\"].astype(int).map(\"{:,.0f}\".format)\n",
    "district_summary[\"Total Budget\"] = district_summary[\"Total Budget\"].astype(float).map(\"${:,.2f}\".format)\n",
    "district_summary[\"Average Math Score\"] = district_summary[\"Average Math Score\"].astype(float).map(\"{:,.3f}\".format)\n",
    "district_summary[\"Average Reading Score\"] = district_summary[\"Average Reading Score\"].astype(float).map(\"{:,.3f}\".format)\n",
    "district_summary[\"Math Passing Rate\"] = district_summary[\"Math Passing Rate\"].astype(float).map(\"{:,.2f}%\".format)\n",
    "district_summary[\"Reading Passing Rate\"] = district_summary[\"Reading Passing Rate\"].astype(float).map(\"{:,.2f}%\".format)\n",
    "district_summary[\"Overall Passing Rate\"] = district_summary[\"Overall Passing Rate\"].astype(float).map(\"{:,.2f}%\".format)\n",
    "\n",
    "# Display data frame\n",
    "district_summary"
   ]
  },
  {
   "cell_type": "markdown",
   "metadata": {},
   "source": [
    "## School Summary"
   ]
  },
  {
   "cell_type": "markdown",
   "metadata": {},
   "source": [
    "* Create an overview table that summarizes key metrics about each school, including:\n",
    "  * School Name\n",
    "  * School Type\n",
    "  * Total Students\n",
    "  * Total School Budget\n",
    "  * Per Student Budget\n",
    "  * Average Math Score\n",
    "  * Average Reading Score\n",
    "  * % Passing Math\n",
    "  * % Passing Reading\n",
    "  * % Overall Passing (The percentage of students that passed math **and** reading.)\n",
    "  \n",
    "* Create a dataframe to hold the above results"
   ]
  },
  {
   "cell_type": "code",
   "execution_count": null,
   "metadata": {
    "scrolled": false
   },
   "outputs": [],
   "source": [
    "# Obtaining unique school name\n",
    "name_of_school = school_data_complete.drop_duplicates(subset = [\"school_name\"])\n",
    "\n",
    "# Groups by schools\n",
    "schools_by_name = school_data_complete.set_index(\"school_name\").groupby([\"school_name\"])\n",
    "\n",
    "# Capturing school types\n",
    "school_types = name_of_school.set_index(\"school_name\")[\"type\"]\n",
    "\n",
    "# Total students in each school\n",
    "student_per_school = schools_by_name[\"Student ID\"].count()\n",
    "\n",
    "# Total School Budget by school\n",
    "school_budget = name_of_school.set_index(\"school_name\")[\"budget\"]\n",
    "\n",
    "# Calculate budget for each student\n",
    "size_of_school = name_of_school.set_index(\"school_name\")[\"size\"]\n",
    "student_budget = school_budget / size_of_school\n",
    "\n",
    "# Average Math Score by school\n",
    "avg_math_scr_by_sch = schools_by_name[\"math_score\"].mean()\n",
    "\n",
    "# Average Reading Score by school\n",
    "avg_reading_scr_by_sch = schools_by_name[\"reading_score\"].mean()\n",
    "\n",
    "# Math passing rate by school\n",
    "pass_math = school_data_complete.loc[school_data_complete[\"math_score\"] >= 70]\n",
    "# Assignin the Math score by each school\n",
    "pass_math_by_sch = pass_math[\"school_name\"].value_counts()\n",
    "math_pass_rate_by_sch = pass_math_by_sch / student_per_school * 100\n",
    "\n",
    "# Reading passing rate by school\n",
    "pass_reading = school_data_complete.loc[school_data_complete[\"reading_score\"] >= 70]\n",
    "# Assignin the Math score by each school\n",
    "pass_reading_by_sch = pass_reading[\"school_name\"].value_counts()\n",
    "reading_pass_rate_by_sch = pass_reading_by_sch / student_per_school * 100\n",
    "\n",
    "# Overall passing rate by school\n",
    "overall_pass_rate_by_sch = (school_data_complete[(school_data_complete[\"reading_score\"] >= 70) &\n",
    "                                                (school_data_complete[\"math_score\"] >= 70)].groupby(\"school_name\")[\"Student ID\"].count() / student_per_school) * 100\n",
    "\n",
    "# Create a data frame for the analysis\n",
    "school_summary = pd.DataFrame({\"School Type\": school_types,\n",
    "                               \"Students Per School\": student_per_school,\n",
    "                               \"Budget By School\": school_budget,\n",
    "                               \"Budget per student\": student_budget,\n",
    "                               \"Average Math Score By School\": avg_math_scr_by_sch,\n",
    "                               \"Average Reading Score By School\": avg_reading_scr_by_sch,\n",
    "                               \"Math Passing Rate By School\": math_pass_rate_by_sch,\n",
    "                               \"Reading Passing Rate By School\": reading_pass_rate_by_sch,\n",
    "                               \"Overall Passing Rate By School\": overall_pass_rate_by_sch})\n",
    "\n",
    "# Format data frame, adding \"$\", \"%\", comma and set decimal places\n",
    "school_summary[\"Students Per School\"] = school_summary[\"Students Per School\"].astype(int).map(\"{:,.0f}\".format)\n",
    "school_summary[\"Budget By School\"] = school_summary[\"Budget By School\"].astype(float).map(\"${:,.2f}\".format)\n",
    "school_summary[\"Budget per student\"] = school_summary[\"Budget per student\"].astype(float).map(\"${:,.2f}\".format)\n",
    "school_summary[\"Average Math Score By School\"] = school_summary[\"Average Math Score By School\"].astype(float).map(\"{:,.3f}\".format)\n",
    "school_summary[\"Average Reading Score By School\"] = school_summary[\"Average Reading Score By School\"].astype(float).map(\"{:,.3f}\".format)\n",
    "school_summary[\"Math Passing Rate By School\"] = school_summary[\"Math Passing Rate By School\"].astype(float).map(\"{:,.2f}%\".format)\n",
    "school_summary[\"Reading Passing Rate By School\"] = school_summary[\"Reading Passing Rate By School\"].astype(float).map(\"{:,.2f}%\".format)\n",
    "school_summary[\"Overall Passing Rate By School\"] = school_summary[\"Overall Passing Rate By School\"].astype(float).map(\"{:,.2f}%\".format)\n",
    "\n",
    "# Display data frame\n",
    "school_summary"
   ]
  },
  {
   "cell_type": "markdown",
   "metadata": {},
   "source": [
    "## Top Performing Schools (By % Overall Passing)"
   ]
  },
  {
   "cell_type": "markdown",
   "metadata": {},
   "source": [
    "* Sort and display the top five performing schools by % overall passing."
   ]
  },
  {
   "cell_type": "code",
   "execution_count": null,
   "metadata": {
    "scrolled": true
   },
   "outputs": [],
   "source": [
    "# Sort values by Overall Passing Rate print Top 5\n",
    "top_5_school = school_summary.sort_values(\"Overall Passing Rate By School\", ascending = False)\n",
    "\n",
    "# Display data frame\n",
    "top_5_school.head()"
   ]
  },
  {
   "cell_type": "markdown",
   "metadata": {},
   "source": [
    "## Bottom Performing Schools (By % Overall Passing)"
   ]
  },
  {
   "cell_type": "markdown",
   "metadata": {},
   "source": [
    "* Sort and display the five worst-performing schools by % overall passing."
   ]
  },
  {
   "cell_type": "code",
   "execution_count": null,
   "metadata": {
    "scrolled": true
   },
   "outputs": [],
   "source": [
    "# Use the previous sorted data frame to find and print Bottom 5\n",
    "bottom_5_school = top_5_school.tail()\n",
    "bottom_5_school = bottom_5_school.sort_values(\"Overall Passing Rate By School\", ascending = True)\n",
    "\n",
    "# Display data frame\n",
    "bottom_5_school"
   ]
  },
  {
   "cell_type": "markdown",
   "metadata": {
    "collapsed": true
   },
   "source": [
    "## Math Scores by Grade"
   ]
  },
  {
   "cell_type": "markdown",
   "metadata": {},
   "source": [
    "* Create a table that lists the average Reading Score for students of each grade level (9th, 10th, 11th, 12th) at each school.\n",
    "\n",
    "  * Create a pandas series for each grade. Hint: use a conditional statement.\n",
    "  \n",
    "  * Group each series by school\n",
    "  \n",
    "  * Combine the series into a dataframe\n",
    "  \n",
    "  * Optional: give the displayed data cleaner formatting"
   ]
  },
  {
   "cell_type": "code",
   "execution_count": null,
   "metadata": {},
   "outputs": [],
   "source": [
    "# Creates grade level average math scores for each school\n",
    "math_9th = school_data_complete.loc[school_data_complete[\"grade\"] == \"9th\"].groupby(\"school_name\")[\"math_score\"].mean()\n",
    "math_10th = school_data_complete.loc[school_data_complete[\"grade\"] == \"10th\"].groupby(\"school_name\")[\"math_score\"].mean()\n",
    "math_11th = school_data_complete.loc[school_data_complete[\"grade\"] == \"11th\"].groupby(\"school_name\")[\"math_score\"].mean()\n",
    "math_12th = school_data_complete.loc[school_data_complete[\"grade\"] == \"12th\"].groupby(\"school_name\")[\"math_score\"].mean()\n",
    "\n",
    "# Create a data frame for the analysis\n",
    "math_scr_by_grade = pd.DataFrame({\"Grade 9\": math_9th,\n",
    "                                  \"Grade 10\": math_10th,\n",
    "                                  \"Grade 11\": math_11th,\n",
    "                                  \"Grade 12\": math_12th})\n",
    "\n",
    "# Format the data frame with no index\n",
    "math_scr_by_grade.index.name = None\n",
    "\n",
    "# Format data frame, set decimal places\n",
    "math_scr_by_grade = math_scr_by_grade.style.format({\"Grade 9\": \"{:,.3f}\",\n",
    "                                                    \"Grade 10\": \"{:,.3f}\",\n",
    "                                                    \"Grade 11\": \"{:,.3f}\",\n",
    "                                                    \"Grade 12\": \"{:,.3f}\"})\n",
    "\n",
    "# Display data frame\n",
    "math_scr_by_grade"
   ]
  },
  {
   "cell_type": "markdown",
   "metadata": {},
   "source": [
    "## Reading Score by Grade "
   ]
  },
  {
   "cell_type": "markdown",
   "metadata": {},
   "source": [
    "* Perform the same operations as above for reading scores"
   ]
  },
  {
   "cell_type": "code",
   "execution_count": null,
   "metadata": {},
   "outputs": [],
   "source": [
    "# Creates grade level average math scores for each school\n",
    "read_9th = school_data_complete.loc[school_data_complete[\"grade\"] == \"9th\"].groupby(\"school_name\")[\"reading_score\"].mean()\n",
    "read_10th = school_data_complete.loc[school_data_complete[\"grade\"] == \"10th\"].groupby(\"school_name\")[\"reading_score\"].mean()\n",
    "read_11th = school_data_complete.loc[school_data_complete[\"grade\"] == \"11th\"].groupby(\"school_name\")[\"reading_score\"].mean()\n",
    "read_12th = school_data_complete.loc[school_data_complete[\"grade\"] == \"12th\"].groupby(\"school_name\")[\"reading_score\"].mean()\n",
    "\n",
    "# Create a data frame for the analysis\n",
    "read_scr_by_grade = pd.DataFrame({\"Grade 9\": read_9th,\n",
    "                                  \"Grade 10\": read_10th,\n",
    "                                  \"Grade 11\": read_11th,\n",
    "                                  \"Grade 12\": read_12th})\n",
    "\n",
    "# Format the data frame with no index\n",
    "read_scr_by_grade.index.name = None\n",
    "\n",
    "# Format data frame, set decimal places\n",
    "read_scr_by_grade = read_scr_by_grade.style.format({\"Grade 9\": \"{:,.3f}\",\n",
    "                                                    \"Grade 10\": \"{:,.3f}\",\n",
    "                                                    \"Grade 11\": \"{:,.3f}\",\n",
    "                                                    \"Grade 12\": \"{:,.3f}\"})\n",
    "\n",
    "# Display data frame\n",
    "read_scr_by_grade"
   ]
  },
  {
   "cell_type": "markdown",
   "metadata": {},
   "source": [
    "## Scores by School Spending"
   ]
  },
  {
   "cell_type": "markdown",
   "metadata": {},
   "source": [
    "* Create a table that breaks down school performances based on average Spending Ranges (Per Student). Use 4 reasonable bins to group school spending. Include in the table each of the following:\n",
    "  * Average Math Score\n",
    "  * Average Reading Score\n",
    "  * % Passing Math\n",
    "  * % Passing Reading\n",
    "  * Overall Passing Rate (Average of the above two)"
   ]
  },
  {
   "cell_type": "code",
   "execution_count": null,
   "metadata": {
    "scrolled": true
   },
   "outputs": [],
   "source": [
    "# Create bins and slicing data frame\n",
    "bins = [0, 584.999, 629.999, 644.999, 999999]\n",
    "group_name = ['< $584', \"$585 - 629\", \"$630 - 644\", \"> $645\"]\n",
    "school_data_complete[\"spending_bins\"] = pd.cut(school_data_complete[\"budget\"] / school_data_complete[\"size\"], bins, labels = group_name)\n",
    "\n",
    "# Group by spending\n",
    "spending = school_data_complete.groupby(\"spending_bins\")\n",
    "\n",
    "# Calculate Average Math Score\n",
    "avg_math_scr_by_spnd = spending[\"math_score\"].mean()\n",
    "\n",
    "# Calculate Average Reading Score\n",
    "avg_read_scr_by_spnd = spending[\"reading_score\"].mean()\n",
    "\n",
    "# % Passing Math\n",
    "math_pass_rt_by_spnd = (school_data_complete[school_data_complete[\"math_score\"] >= 70].groupby(\"spending_bins\")[\"Student ID\"].count() / spending[\"Student ID\"].count()) * 100\n",
    "\n",
    "# % Passing Reading\n",
    "read_pass_rt_by_spnd = (school_data_complete[school_data_complete[\"reading_score\"] >= 70].groupby(\"spending_bins\")[\"Student ID\"].count() / spending[\"Student ID\"].count()) * 100\n",
    "\n",
    "# Overall Passing Rate (Average of the above two)\n",
    "overall_pass_rt_by_spnd = (school_data_complete[(school_data_complete[\"math_score\"] >= 70) & \n",
    "                                (school_data_complete[\"reading_score\"] >= 70)].groupby(\"spending_bins\")[\"Student ID\"].count() / spending[\"Student ID\"].count()) * 100\n",
    "            \n",
    "# Create a data frame for the analysis\n",
    "scores_by_spend = pd.DataFrame({\"Average Math Score By Spending\": avg_math_scr_by_spnd,\n",
    "                                \"Average Reading Score By Spending\": avg_read_scr_by_spnd,\n",
    "                                \"Math Passing Rate By Spending\": math_pass_rt_by_spnd,\n",
    "                                \"Reading Passing Rate By Spending\": read_pass_rt_by_spnd,\n",
    "                                \"Overall Passing Rate By Spending\": overall_pass_rt_by_spnd})\n",
    "\n",
    "# Set index as \"Per Student Budget\"\n",
    "scores_by_spend.index.name = \"Per Student Budget\"\n",
    "\n",
    "# Format data frame, adding \"%\" and set decimal places\n",
    "scores_by_spend[\"Average Math Score By Spending\"] = scores_by_spend[\"Average Math Score By Spending\"].astype(float).map(\"{:,.3f}\".format)\n",
    "scores_by_spend[\"Average Reading Score By Spending\"] = scores_by_spend[\"Average Reading Score By Spending\"].astype(float).map(\"{:,.3f}\".format)\n",
    "scores_by_spend[\"Math Passing Rate By Spending\"] = scores_by_spend[\"Math Passing Rate By Spending\"].astype(float).map(\"{:,.2f}%\".format)\n",
    "scores_by_spend[\"Reading Passing Rate By Spending\"] = scores_by_spend[\"Reading Passing Rate By Spending\"].astype(float).map(\"{:,.2f}%\".format)\n",
    "scores_by_spend[\"Overall Passing Rate By Spending\"] = scores_by_spend[\"Overall Passing Rate By Spending\"].astype(float).map(\"{:,.2f}%\".format)\n",
    "\n",
    "# Diasplay data frame\n",
    "scores_by_spend"
   ]
  },
  {
   "cell_type": "markdown",
   "metadata": {},
   "source": [
    "## Scores by School Size"
   ]
  },
  {
   "cell_type": "markdown",
   "metadata": {},
   "source": [
    "* Perform the same operations as above, based on school size."
   ]
  },
  {
   "cell_type": "code",
   "execution_count": null,
   "metadata": {
    "scrolled": true
   },
   "outputs": [],
   "source": [
    "# Create bins and slicing data frame\n",
    "bins = [0, 999, 1999, 99999999999]\n",
    "group_name = [\"Small (<1000)\", \"Medium (1000-2000)\" , \"Large (>2000)\"]\n",
    "school_data_complete[\"size_bins\"] = pd.cut(school_data_complete[\"size\"], bins, labels = group_name)\n",
    "\n",
    "# Group by size\n",
    "size = school_data_complete.groupby(\"size_bins\")\n",
    "\n",
    "# Calculate Average Math Score\n",
    "avg_math_scr_by_size = size[\"math_score\"].mean()\n",
    "\n",
    "# Calculate Average Reading Score\n",
    "avg_read_scr_by_size = size[\"reading_score\"].mean()\n",
    "\n",
    "# % Passing Math\n",
    "math_pass_rt_by_size = (school_data_complete[school_data_complete[\"math_score\"] >= 70].groupby(\"size_bins\")[\"Student ID\"].count() / size[\"Student ID\"].count()) * 100\n",
    "\n",
    "# % Passing Reading\n",
    "read_pass_rt_by_size = (school_data_complete[school_data_complete[\"reading_score\"] >= 70].groupby(\"size_bins\")[\"Student ID\"].count() / size[\"Student ID\"].count()) * 100\n",
    "\n",
    "# Overall Passing Rate (Average of the above two)\n",
    "overall_pass_rt_by_size = (school_data_complete[(school_data_complete[\"math_score\"] >= 70) &\n",
    "                                               (school_data_complete[\"reading_score\"] >= 70)].groupby(\"size_bins\")[\"Student ID\"].count() / size[\"Student ID\"].count()) * 100\n",
    "\n",
    "            \n",
    "# Create a data frame for the analysis\n",
    "scores_by_size = pd.DataFrame({\"Average Math Score By Size\": avg_math_scr_by_size,\n",
    "                               \"Average Reading Score By Size\": avg_read_scr_by_size,\n",
    "                               \"Math Passing Rate By Size\": math_pass_rt_by_size,\n",
    "                               \"Reading Passing Rate By Size\": read_pass_rt_by_size,\n",
    "                               \"Overall Passing Rate By Size\": overall_pass_rt_by_size})\n",
    "           \n",
    "# Set index as \"School Size\"\n",
    "scores_by_size.index.name = \"School Size\"\n",
    "\n",
    "# Format data frame, adding \"%\" and set decimal places\n",
    "scores_by_size[\"Average Math Score By Size\"] = scores_by_size[\"Average Math Score By Size\"].astype(float).map(\"{:,.3f}\".format)\n",
    "scores_by_size[\"Average Reading Score By Size\"] = scores_by_size[\"Average Reading Score By Size\"].astype(float).map(\"{:,.3f}\".format)\n",
    "scores_by_size[\"Math Passing Rate By Size\"] = scores_by_size[\"Math Passing Rate By Size\"].astype(float).map(\"{:,.2f}%\".format)\n",
    "scores_by_size[\"Reading Passing Rate By Size\"] = scores_by_size[\"Reading Passing Rate By Size\"].astype(float).map(\"{:,.2f}%\".format)\n",
    "scores_by_size[\"Overall Passing Rate By Size\"] = scores_by_size[\"Overall Passing Rate By Size\"].astype(float).map(\"{:,.2f}%\".format)\n",
    "\n",
    "# Diasplay data frame\n",
    "scores_by_size"
   ]
  },
  {
   "cell_type": "markdown",
   "metadata": {},
   "source": [
    "## Scores by School Type"
   ]
  },
  {
   "cell_type": "markdown",
   "metadata": {},
   "source": [
    "* Perform the same operations as above, based on school type"
   ]
  },
  {
   "cell_type": "code",
   "execution_count": null,
   "metadata": {},
   "outputs": [],
   "source": [
    "# group by type of school\n",
    "sch_type = school_data_complete.groupby(\"type\")\n",
    "\n",
    "# Calculate Average Math Score\n",
    "avg_math_scr_by_type = sch_type[\"math_score\"].mean()\n",
    "\n",
    "# Calculate Average Reading Score\n",
    "avg_read_scr_by_type = sch_type[\"reading_score\"].mean()\n",
    "\n",
    "# % Passing Math\n",
    "math_pass_rt_by_type = (school_data_complete[school_data_complete[\"math_score\"] >= 70].groupby(\"type\")[\"Student ID\"].count() / sch_type[\"Student ID\"].count()) * 100\n",
    "\n",
    "# % Passing Reading\n",
    "read_pass_rt_by_type = (school_data_complete[school_data_complete[\"reading_score\"] >= 70].groupby(\"type\")[\"Student ID\"].count() / sch_type[\"Student ID\"].count()) * 100\n",
    "\n",
    "# Overall Passing Rate (Average of the above two)\n",
    "overall_pass_rt_by_type = (school_data_complete[(school_data_complete[\"math_score\"] >= 70) &\n",
    "                                               (school_data_complete[\"reading_score\"] >= 70)].groupby(\"type\")[\"Student ID\"].count() / sch_type[\"Student ID\"].count()) * 100\n",
    "\n",
    "# Create a data frame for the analysis\n",
    "scores_by_type = pd.DataFrame({\"Average Math Score By Type\": avg_math_scr_by_type,\n",
    "                               \"Average Reading Score By Type\": avg_read_scr_by_type,\n",
    "                               \"Math Passing Rate By Type\": math_pass_rt_by_type,\n",
    "                               \"Reading Passing Rate By Type\": read_pass_rt_by_type,\n",
    "                               \"Overall Passing Rate By Type\": overall_pass_rt_by_type})\n",
    "           \n",
    "# Set index as \"School Size\"\n",
    "scores_by_size.index.name = \"School Size\"\n",
    "\n",
    "# Format data frame, adding \"%\" and set decimal places\n",
    "scores_by_type[\"Average Math Score By Type\"] = scores_by_type[\"Average Math Score By Type\"].astype(float).map(\"{:,.3f}\".format)\n",
    "scores_by_type[\"Average Reading Score By Type\"] = scores_by_type[\"Average Reading Score By Type\"].astype(float).map(\"{:,.3f}\".format)\n",
    "scores_by_type[\"Math Passing Rate By Type\"] = scores_by_type[\"Math Passing Rate By Type\"].astype(float).map(\"{:,.2f}%\".format)\n",
    "scores_by_type[\"Reading Passing Rate By Type\"] = scores_by_type[\"Reading Passing Rate By Type\"].astype(float).map(\"{:,.2f}%\".format)\n",
    "scores_by_type[\"Overall Passing Rate By Type\"] = scores_by_type[\"Overall Passing Rate By Type\"].astype(float).map(\"{:,.2f}%\".format)\n",
    "\n",
    "# Diasplay data frame\n",
    "scores_by_type"
   ]
  }
 ],
 "metadata": {
  "anaconda-cloud": {},
  "kernel_info": {
   "name": "python3"
  },
  "kernelspec": {
   "display_name": "Python 3",
   "language": "python",
   "name": "python3"
  },
  "language_info": {
   "codemirror_mode": {
    "name": "ipython",
    "version": 3
   },
   "file_extension": ".py",
   "mimetype": "text/x-python",
   "name": "python",
   "nbconvert_exporter": "python",
   "pygments_lexer": "ipython3",
   "version": "3.8.8"
  },
  "latex_envs": {
   "LaTeX_envs_menu_present": true,
   "autoclose": false,
   "autocomplete": true,
   "bibliofile": "biblio.bib",
   "cite_by": "apalike",
   "current_citInitial": 1,
   "eqLabelWithNumbers": true,
   "eqNumInitial": 1,
   "hotkeys": {
    "equation": "Ctrl-E",
    "itemize": "Ctrl-I"
   },
   "labels_anchors": false,
   "latex_user_defs": false,
   "report_style_numbering": false,
   "user_envs_cfg": false
  },
  "nteract": {
   "version": "0.8.4"
  }
 },
 "nbformat": 4,
 "nbformat_minor": 1
}
